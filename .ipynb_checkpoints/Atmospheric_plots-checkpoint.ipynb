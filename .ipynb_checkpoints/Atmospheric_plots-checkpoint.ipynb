{
 "cells": [
  {
   "cell_type": "code",
   "execution_count": 1,
   "id": "ed622eb5",
   "metadata": {
    "ExecuteTime": {
     "end_time": "2022-02-10T16:07:48.495507Z",
     "start_time": "2022-02-10T16:07:45.634572Z"
    }
   },
   "outputs": [],
   "source": [
    "import pandas as pd\n",
    "\n",
    "import numpy as np\n",
    "\n",
    "import matplotlib.pyplot as plt\n",
    "%matplotlib inline\n",
    "import matplotlib\n",
    "matplotlib.rcParams.update({'font.size': 14})\n",
    "\n",
    "from astropy import constants as c\n",
    "from astropy import units as u\n",
    "\n",
    "from plasmapy.formulary import mass_density \n",
    "from plasmapy.formulary import collision_frequency\n",
    "from plasmapy.particles import reduced_mass"
   ]
  },
  {
   "cell_type": "markdown",
   "id": "36974c2d",
   "metadata": {},
   "source": [
    "# Properties of a stellar atmosphere\n",
    "\n",
    "In this notebook we are going to examine some of the physical properties of a stellar atmosphere. We will use as our base the series of models known as FAL-93 ([Fontenla, Avert & Loeser, 1993](https://ui.adsabs.harvard.edu/abs/1993ApJ...406..319F/abstract)). These models are often used a proxy for the conditions on the Sun. However, as Rob Rutten likes to make clear: \n",
    "\n",
    "- *these are educational solar-analog “Avrett stars”. These computationally existing stars extend infinitely\n",
    "plane-parallel (1D) without any inhomogeneities or any magnetism or any sort of waves or any type of reconnection – no granules, spicules, floccules, let be filaments, flares, CMEs, and whatever else that makes our kind Sun non-plane-parallel interesting. .... The solar atmosphere is not layered but\n",
    "dynamically structured.* (Quote from [Rutten 2021](https://ui.adsabs.harvard.edu/abs/2021arXiv210302369R/abstract)).\n",
    "\n",
    "With that made clear, let's look at a Sun."
   ]
  },
  {
   "cell_type": "code",
   "execution_count": 2,
   "id": "bafd01eb",
   "metadata": {
    "ExecuteTime": {
     "end_time": "2022-02-10T16:07:50.048804Z",
     "start_time": "2022-02-10T16:07:50.041165Z"
    }
   },
   "outputs": [],
   "source": [
    "# read in files\n",
    "file_name = '/Users/richardmorton/analysis/FAL_models/fal_c.csv'\n",
    "df = pd.read_csv(file_name, skiprows=[1])"
   ]
  },
  {
   "cell_type": "code",
   "execution_count": 3,
   "id": "4ec7d450",
   "metadata": {
    "ExecuteTime": {
     "end_time": "2022-02-10T16:07:51.556491Z",
     "start_time": "2022-02-10T16:07:51.522980Z"
    }
   },
   "outputs": [
    {
     "data": {
      "text/html": [
       "<div>\n",
       "<style scoped>\n",
       "    .dataframe tbody tr th:only-of-type {\n",
       "        vertical-align: middle;\n",
       "    }\n",
       "\n",
       "    .dataframe tbody tr th {\n",
       "        vertical-align: top;\n",
       "    }\n",
       "\n",
       "    .dataframe thead th {\n",
       "        text-align: right;\n",
       "    }\n",
       "</style>\n",
       "<table border=\"1\" class=\"dataframe\">\n",
       "  <thead>\n",
       "    <tr style=\"text-align: right;\">\n",
       "      <th></th>\n",
       "      <th>Unnamed: 0</th>\n",
       "      <th>Depth</th>\n",
       "      <th>Temp.</th>\n",
       "      <th>Electron</th>\n",
       "      <th>Proton</th>\n",
       "      <th>H(1)</th>\n",
       "      <th>H(2)</th>\n",
       "      <th>He(1)</th>\n",
       "      <th>He(2)</th>\n",
       "      <th>He II</th>\n",
       "      <th>He III</th>\n",
       "    </tr>\n",
       "  </thead>\n",
       "  <tbody>\n",
       "    <tr>\n",
       "      <th>0</th>\n",
       "      <td>1</td>\n",
       "      <td>2220.0</td>\n",
       "      <td>103000.0</td>\n",
       "      <td>6.560000e+09</td>\n",
       "      <td>5.480000e+09</td>\n",
       "      <td>1.110000e+05</td>\n",
       "      <td>3.700000e-02</td>\n",
       "      <td>4.320000e+02</td>\n",
       "      <td>0.598</td>\n",
       "      <td>2.010000e+07</td>\n",
       "      <td>5.280000e+08</td>\n",
       "    </tr>\n",
       "    <tr>\n",
       "      <th>1</th>\n",
       "      <td>2</td>\n",
       "      <td>2220.0</td>\n",
       "      <td>98800.0</td>\n",
       "      <td>6.810000e+09</td>\n",
       "      <td>5.700000e+09</td>\n",
       "      <td>1.790000e+05</td>\n",
       "      <td>5.900000e-02</td>\n",
       "      <td>1.200000e+03</td>\n",
       "      <td>1.540</td>\n",
       "      <td>4.410000e+07</td>\n",
       "      <td>5.260000e+08</td>\n",
       "    </tr>\n",
       "    <tr>\n",
       "      <th>2</th>\n",
       "      <td>3</td>\n",
       "      <td>2220.0</td>\n",
       "      <td>94800.0</td>\n",
       "      <td>7.070000e+09</td>\n",
       "      <td>5.940000e+09</td>\n",
       "      <td>2.460000e+05</td>\n",
       "      <td>8.000000e-02</td>\n",
       "      <td>2.860000e+03</td>\n",
       "      <td>3.390</td>\n",
       "      <td>7.280000e+07</td>\n",
       "      <td>5.220000e+08</td>\n",
       "    </tr>\n",
       "    <tr>\n",
       "      <th>3</th>\n",
       "      <td>4</td>\n",
       "      <td>2220.0</td>\n",
       "      <td>90800.0</td>\n",
       "      <td>7.360000e+09</td>\n",
       "      <td>6.210000e+09</td>\n",
       "      <td>3.440000e+05</td>\n",
       "      <td>1.110000e-01</td>\n",
       "      <td>6.720000e+03</td>\n",
       "      <td>7.250</td>\n",
       "      <td>1.050000e+08</td>\n",
       "      <td>5.170000e+08</td>\n",
       "    </tr>\n",
       "    <tr>\n",
       "      <th>4</th>\n",
       "      <td>5</td>\n",
       "      <td>2210.0</td>\n",
       "      <td>83900.0</td>\n",
       "      <td>7.910000e+09</td>\n",
       "      <td>6.730000e+09</td>\n",
       "      <td>7.000000e+05</td>\n",
       "      <td>2.200000e-01</td>\n",
       "      <td>2.640000e+04</td>\n",
       "      <td>24.400</td>\n",
       "      <td>1.770000e+08</td>\n",
       "      <td>4.980000e+08</td>\n",
       "    </tr>\n",
       "    <tr>\n",
       "      <th>...</th>\n",
       "      <td>...</td>\n",
       "      <td>...</td>\n",
       "      <td>...</td>\n",
       "      <td>...</td>\n",
       "      <td>...</td>\n",
       "      <td>...</td>\n",
       "      <td>...</td>\n",
       "      <td>...</td>\n",
       "      <td>...</td>\n",
       "      <td>...</td>\n",
       "      <td>...</td>\n",
       "    </tr>\n",
       "    <tr>\n",
       "      <th>65</th>\n",
       "      <td>66</td>\n",
       "      <td>-20.0</td>\n",
       "      <td>6980.0</td>\n",
       "      <td>1.730000e+14</td>\n",
       "      <td>1.530000e+14</td>\n",
       "      <td>1.240000e+17</td>\n",
       "      <td>2.150000e+10</td>\n",
       "      <td>1.250000e+16</td>\n",
       "      <td>184.000</td>\n",
       "      <td>6.850000e+05</td>\n",
       "      <td>2.820000e-27</td>\n",
       "    </tr>\n",
       "    <tr>\n",
       "      <th>66</th>\n",
       "      <td>67</td>\n",
       "      <td>-40.0</td>\n",
       "      <td>7590.0</td>\n",
       "      <td>4.480000e+14</td>\n",
       "      <td>4.250000e+14</td>\n",
       "      <td>1.280000e+17</td>\n",
       "      <td>8.630000e+10</td>\n",
       "      <td>1.280000e+16</td>\n",
       "      <td>2660.000</td>\n",
       "      <td>8.370000e+06</td>\n",
       "      <td>2.180000e-23</td>\n",
       "    </tr>\n",
       "    <tr>\n",
       "      <th>67</th>\n",
       "      <td>68</td>\n",
       "      <td>-60.0</td>\n",
       "      <td>8220.0</td>\n",
       "      <td>1.050000e+15</td>\n",
       "      <td>1.020000e+15</td>\n",
       "      <td>1.300000e+17</td>\n",
       "      <td>2.900000e+11</td>\n",
       "      <td>1.310000e+16</td>\n",
       "      <td>27700.000</td>\n",
       "      <td>7.390000e+07</td>\n",
       "      <td>5.490000e-20</td>\n",
       "    </tr>\n",
       "    <tr>\n",
       "      <th>68</th>\n",
       "      <td>69</td>\n",
       "      <td>-80.0</td>\n",
       "      <td>8860.0</td>\n",
       "      <td>2.210000e+15</td>\n",
       "      <td>2.180000e+15</td>\n",
       "      <td>1.300000e+17</td>\n",
       "      <td>8.230000e+11</td>\n",
       "      <td>1.320000e+16</td>\n",
       "      <td>212000.000</td>\n",
       "      <td>4.890000e+08</td>\n",
       "      <td>4.960000e-17</td>\n",
       "    </tr>\n",
       "    <tr>\n",
       "      <th>69</th>\n",
       "      <td>70</td>\n",
       "      <td>-100.0</td>\n",
       "      <td>9400.0</td>\n",
       "      <td>3.870000e+15</td>\n",
       "      <td>3.830000e+15</td>\n",
       "      <td>1.310000e+17</td>\n",
       "      <td>1.790000e+12</td>\n",
       "      <td>1.350000e+16</td>\n",
       "      <td>958000.000</td>\n",
       "      <td>1.990000e+09</td>\n",
       "      <td>7.580000e-15</td>\n",
       "    </tr>\n",
       "  </tbody>\n",
       "</table>\n",
       "<p>70 rows × 11 columns</p>\n",
       "</div>"
      ],
      "text/plain": [
       "    Unnamed: 0   Depth     Temp.      Electron        Proton          H(1)  \\\n",
       "0            1  2220.0  103000.0  6.560000e+09  5.480000e+09  1.110000e+05   \n",
       "1            2  2220.0   98800.0  6.810000e+09  5.700000e+09  1.790000e+05   \n",
       "2            3  2220.0   94800.0  7.070000e+09  5.940000e+09  2.460000e+05   \n",
       "3            4  2220.0   90800.0  7.360000e+09  6.210000e+09  3.440000e+05   \n",
       "4            5  2210.0   83900.0  7.910000e+09  6.730000e+09  7.000000e+05   \n",
       "..         ...     ...       ...           ...           ...           ...   \n",
       "65          66   -20.0    6980.0  1.730000e+14  1.530000e+14  1.240000e+17   \n",
       "66          67   -40.0    7590.0  4.480000e+14  4.250000e+14  1.280000e+17   \n",
       "67          68   -60.0    8220.0  1.050000e+15  1.020000e+15  1.300000e+17   \n",
       "68          69   -80.0    8860.0  2.210000e+15  2.180000e+15  1.300000e+17   \n",
       "69          70  -100.0    9400.0  3.870000e+15  3.830000e+15  1.310000e+17   \n",
       "\n",
       "            H(2)         He(1)       He(2)         He II        He III  \n",
       "0   3.700000e-02  4.320000e+02       0.598  2.010000e+07  5.280000e+08  \n",
       "1   5.900000e-02  1.200000e+03       1.540  4.410000e+07  5.260000e+08  \n",
       "2   8.000000e-02  2.860000e+03       3.390  7.280000e+07  5.220000e+08  \n",
       "3   1.110000e-01  6.720000e+03       7.250  1.050000e+08  5.170000e+08  \n",
       "4   2.200000e-01  2.640000e+04      24.400  1.770000e+08  4.980000e+08  \n",
       "..           ...           ...         ...           ...           ...  \n",
       "65  2.150000e+10  1.250000e+16     184.000  6.850000e+05  2.820000e-27  \n",
       "66  8.630000e+10  1.280000e+16    2660.000  8.370000e+06  2.180000e-23  \n",
       "67  2.900000e+11  1.310000e+16   27700.000  7.390000e+07  5.490000e-20  \n",
       "68  8.230000e+11  1.320000e+16  212000.000  4.890000e+08  4.960000e-17  \n",
       "69  1.790000e+12  1.350000e+16  958000.000  1.990000e+09  7.580000e-15  \n",
       "\n",
       "[70 rows x 11 columns]"
      ]
     },
     "execution_count": 3,
     "metadata": {},
     "output_type": "execute_result"
    }
   ],
   "source": [
    "# show columns\n",
    "#df = df.drop(range(5))\n",
    "df"
   ]
  },
  {
   "cell_type": "markdown",
   "id": "69b37765",
   "metadata": {},
   "source": [
    "## Number and mass density\n",
    "\n",
    "From this data we will first calculate the total number densities of Hydrogen and Helium, and the total mass density, then show the density and temperature."
   ]
  },
  {
   "cell_type": "code",
   "execution_count": 4,
   "id": "864ffcc5",
   "metadata": {
    "ExecuteTime": {
     "end_time": "2022-02-10T16:07:53.774830Z",
     "start_time": "2022-02-10T16:07:53.757721Z"
    }
   },
   "outputs": [],
   "source": [
    "df['n_H'] = df['Proton']+df['H(1)']+df['H(2)']\n",
    "df['n_He'] = df['He(1)']+df['He(2)']+df['He II']+df[\"He III\"]\n",
    "\n",
    "# rho in kg/m^3\n",
    "df['rho'] = mass_density(df['n_H'].values * u.cm**-3, 'H') \\\n",
    "            + mass_density(df['n_He'].values * u.cm**-3, 'He')"
   ]
  },
  {
   "cell_type": "markdown",
   "id": "e99b99d9",
   "metadata": {},
   "source": [
    "## Coronal extension\n",
    "\n",
    "To extend this model to the corona, we follow Soler et al. (2017). First, the temperature is defined by a parabolic profile, determined to match the value of T at the upper chromosphere/transition region, with a coronal temperature, in this case $T_{cor}=10^6$, i.e. $T=(a+z/b)^{1/2}$\n",
    "\n",
    "The density is then determined by assuming a gravitational stratified atmosphere, i.e. $\\nabla p=\\rho \\vec{g}$. This leads to the ODE:\n",
    "\n",
    "$$\n",
    "\\frac{d\\rho}{dz}+\\frac{\\rho}{T}\\left(\\frac{dT}{dz}+\\frac{g\\mu}{R}\\right)=0\n",
    "$$\n",
    "\n",
    "$$\n",
    "\\frac{d T}{dz}= \\frac{(a+z/b)^{-1/2}}{2b}\n",
    "$$\n",
    "\n",
    "This has an analytic solution but we solve with Euler's method."
   ]
  },
  {
   "cell_type": "code",
   "execution_count": 43,
   "id": "f80f33b6",
   "metadata": {
    "ExecuteTime": {
     "end_time": "2022-02-10T21:53:19.156532Z",
     "start_time": "2022-02-10T21:53:18.759675Z"
    }
   },
   "outputs": [
    {
     "data": {
      "image/png": "[encoded data removed]",
      "text/plain": [
       "<Figure size 1080x360 with 2 Axes>"
      ]
     },
     "metadata": {
      "needs_background": "light"
     },
     "output_type": "display_data"
    }
   ],
   "source": [
    "# Add corona\n",
    "\n",
    "# Initial conditions\n",
    "T_cor = 1e6 # K\n",
    "z_cor = 4000 # km\n",
    "\n",
    "z_step = 5 # step size\n",
    "\n",
    "# solar constants\n",
    "g_sun = 274*u.m*u.s**-2 # solar gravity\n",
    "g_sun = g_sun.to(u.km*u.s**-2)\n",
    "R = 8.3e3*u.m**2*u.s**-2*u.K**-1 # gas constant\n",
    "R = R.to(u.km**2*u.s**-2*u.K**-1)\n",
    "mu = 0.6 # mean atomic weight\n",
    "\n",
    "# parabolic profile for T\n",
    "b = (z_cor-df['Depth'][0])/(T_cor**2-df['Temp.'][0]**2)\n",
    "a = df['Temp.'][0]**2-1/b*df['Depth'][0]\n",
    "\n",
    "depth_cor = np.arange(df['Depth'][0], z_cor, z_step) # km\n",
    "coronal_T_prof = np.sqrt(a+1/b*depth_cor)\n",
    "test_profile = np.concatenate((coronal_T_prof[::-1],df[\"Temp.\"].values))\n",
    "test_depth = np.concatenate((depth_cor[::-1], df[\"Depth\"].values))\n",
    "\n",
    "plt.figure(figsize=(15,5))\n",
    "plt.subplot(121)\n",
    "plt.plot(test_depth, test_profile)\n",
    "plt.yscale('log')\n",
    "\n",
    "# density from gravitational stratifiction\n",
    "rho_cor = []\n",
    "for i, z_c in enumerate(depth_cor.tolist()):\n",
    "    if i == 0:\n",
    "        rho_n = df['rho'][0]\n",
    "    else:\n",
    "        rho_n = rho_cor[-1]\n",
    "    f = (a+1/b*z_c)**-0.5/2/b+(g_sun*mu/R).value\n",
    "    rho_cor.append(rho_n-z_step*rho_n*f/coronal_T_prof[i])\n",
    "\n",
    "test_rho_profile = np.concatenate((np.array(rho_cor)[::-1], df[\"rho\"].values))\n",
    "plt.subplot(122)\n",
    "plt.plot(test_depth, test_rho_profile)\n",
    "plt.yscale('log')\n",
    "plt.ylim(1e-13,1e-3)\n",
    "plt.grid()"
   ]
  },
  {
   "cell_type": "code",
   "execution_count": 301,
   "id": "5bddbb8b",
   "metadata": {
    "ExecuteTime": {
     "end_time": "2022-02-07T15:23:56.175626Z",
     "start_time": "2022-02-07T15:23:55.838266Z"
    }
   },
   "outputs": [
    {
     "data": {
      "text/plain": [
       "<Figure size 1080x360 with 0 Axes>"
      ]
     },
     "metadata": {},
     "output_type": "display_data"
    },
    {
     "data": {
      "image/png": "[encoded data removed]",
      "text/plain": [
       "<Figure size 432x288 with 2 Axes>"
      ]
     },
     "metadata": {
      "needs_background": "light"
     },
     "output_type": "display_data"
    }
   ],
   "source": [
    "plt.figure(figsize=(15,5))\n",
    "fig, ax1 =plt.subplots()\n",
    "\n",
    "ax1.plot(df['Depth'], df['Temp.'], label='T', color='darkviolet', lw=2, linestyle='-.')\n",
    "ax1.set_yscale('log')\n",
    "ax1.set_xlabel('Height (km)')\n",
    "ax1.set_ylabel('Temperature (K)')\n",
    "#ax1.grid(axis='y')\n",
    "\n",
    "ax2 = ax1.twinx()\n",
    "\n",
    "ax2.plot(df['Depth'], df['rho'], label=r'$\\rho$', color='slateblue', lw=2)\n",
    "ax2.set_yscale('log')\n",
    "ax2.set_ylabel(r'$\\rho$ (kg m$^{-3}$)')\n",
    "\n",
    "fig.tight_layout()\n",
    "fig.legend(loc='upper right', bbox_to_anchor=(0.75,0.95));"
   ]
  },
  {
   "cell_type": "markdown",
   "id": "c4945a9d",
   "metadata": {},
   "source": [
    "## Magnetic field geometry\n",
    "\n",
    "Here we detail the magnetic field geometry of a small-scale magnetic flux tube, likely to be close to those observed in intergranular lanes (magnetic bright points). The specific form of the magnetic field is a semi-empirical formula suggested in Leake et al. (2005).\n",
    "\n",
    "$$\n",
    "B_z(z)=B_{ph}\\left(\\frac{\\rho(z)}{\\rho_{ph}}\\right)^\\epsilon,\n",
    "$$\n",
    "\n",
    "where subscript $ph$ corresponds to photospheric values, and $\\epsilon$ is a free parameter that controls the expansion of the magnetic field."
   ]
  },
  {
   "cell_type": "code",
   "execution_count": 52,
   "id": "36631015",
   "metadata": {
    "ExecuteTime": {
     "end_time": "2022-02-14T12:30:52.232019Z",
     "start_time": "2022-02-14T12:30:51.992405Z"
    }
   },
   "outputs": [
    {
     "data": {
      "image/png": "[encoded data removed]",
      "text/plain": [
       "<Figure size 432x288 with 1 Axes>"
      ]
     },
     "metadata": {
      "needs_background": "light"
     },
     "output_type": "display_data"
    }
   ],
   "source": [
    "def create_mag_field(B_ph, rho, epsilon):\n",
    "    return B_ph * (rho / rho[-1])**epsilon\n",
    "\n",
    "rho = df['rho'].values\n",
    "b_z = create_mag_field(1300, rho, 0.3)\n",
    "plt.plot(df['Depth'], b_z)\n",
    "plt.yscale('log')"
   ]
  },
  {
   "cell_type": "markdown",
   "id": "ae2d39f0",
   "metadata": {},
   "source": [
    "## Fractions of species\n",
    "Now we will calculate the fractions of each species in the atmosphere,as\n",
    "$$\n",
    "\\xi_\\beta = \\frac{\\rho_{\\beta}}{\\rho}\n",
    "$$\n",
    "where $\\rho_\\beta =m_\\beta n_\\beta$ is the mass density of species $\\beta =$ e, p, H, He I, or He II."
   ]
  },
  {
   "cell_type": "code",
   "execution_count": 303,
   "id": "e693a712",
   "metadata": {
    "ExecuteTime": {
     "end_time": "2022-02-07T15:26:16.888791Z",
     "start_time": "2022-02-07T15:26:16.871636Z"
    }
   },
   "outputs": [],
   "source": [
    "rho = df['rho'] * (u.kg * u.m**-3)\n",
    "\n",
    "df['xi_H_n'] = mass_density((df['H(1)']+df['H(2)']).values * u.cm**-3, 'H') /rho\n",
    "df['xi_H_i'] = mass_density(df['Proton'].values * u.cm**-3, 'p') /df['rho']\n",
    "df['xi_He_n'] = mass_density((df['He(1)']+df['He(2)']).values * u.cm**-3, 'He') /rho\n",
    "df['xi_He_i'] = mass_density((df['He II']+df[\"He III\"]).values * u.cm**-3, 'He') /rho\n",
    "df['xi_He_II'] = mass_density((df['He II']).values * u.cm**-3, 'He') /rho\n",
    "\n",
    "\n",
    "# all ions and neutrals\n",
    "df['xi_i'] = df['xi_H_i']+df['xi_He_i']\n",
    "df['xi_n'] = df['xi_H_n']+df['xi_He_n']"
   ]
  },
  {
   "cell_type": "markdown",
   "id": "a44d9a11",
   "metadata": {},
   "source": [
    "First we'll plot the fractions of individual species."
   ]
  },
  {
   "cell_type": "code",
   "execution_count": 323,
   "id": "a3c8c111",
   "metadata": {
    "ExecuteTime": {
     "end_time": "2022-02-07T15:44:05.451884Z",
     "start_time": "2022-02-07T15:44:05.325546Z"
    },
    "code_folding": [
     0
    ]
   },
   "outputs": [
    {
     "data": {
      "image/png": "[encoded data removed]",
      "text/plain": [
       "<Figure size 432x288 with 1 Axes>"
      ]
     },
     "metadata": {
      "needs_background": "light"
     },
     "output_type": "display_data"
    }
   ],
   "source": [
    "# plot code\n",
    "plt.plot(df['Depth'], df['xi_H_i'], label='p', color='limegreen', lw=2)\n",
    "plt.plot(df['Depth'], df['xi_H_n'], label='H', color='lawngreen', linestyle='--', lw=2)\n",
    "plt.plot(df['Depth'], df['xi_He_n'], label='He I', color='cornflowerblue', linestyle='-.', lw=2)\n",
    "plt.plot(df['Depth'], df['xi_He_II'], label='He II', color='deepskyblue', linestyle=':', lw=2)\n",
    "plt.xlabel('Depth (km)')\n",
    "plt.ylabel(r'Fraction ($\\xi$)')\n",
    "plt.legend(loc='upper right');"
   ]
  },
  {
   "cell_type": "markdown",
   "id": "e45b39cc",
   "metadata": {},
   "source": [
    "And now the the fractions of ions and neutrals."
   ]
  },
  {
   "cell_type": "code",
   "execution_count": 325,
   "id": "bb33dd95",
   "metadata": {
    "ExecuteTime": {
     "end_time": "2022-02-07T15:44:23.102271Z",
     "start_time": "2022-02-07T15:44:22.968904Z"
    },
    "code_folding": [
     0
    ]
   },
   "outputs": [
    {
     "data": {
      "image/png": "[encoded data removed]",
      "text/plain": [
       "<Figure size 432x288 with 1 Axes>"
      ]
     },
     "metadata": {
      "needs_background": "light"
     },
     "output_type": "display_data"
    }
   ],
   "source": [
    "# plot code\n",
    "plt.plot(df['Depth'], df['xi_i'], label='ions', color='cornflowerblue', linestyle='-.', lw=2)\n",
    "plt.plot(df['Depth'], df['xi_n'], label='neutrals', color='plum', lw=2)\n",
    "plt.xlabel('Depth (km)')\n",
    "plt.ylabel(r'Fraction ($\\xi$)')\n",
    "plt.legend();"
   ]
  },
  {
   "cell_type": "markdown",
   "id": "1b8e8c52",
   "metadata": {},
   "source": [
    "## Collision Frequencies\n",
    "\n",
    "Of interest in many applications are the coefficients of friction, and/or the collision frequencies of the particles and different species. These equations can be found in many places, but I found the following references helpful ([Zaqarashvili et al. 2013](https://ui.adsabs.harvard.edu/abs/2011A%26A...529A..82Z/abstract); [Soler et al. 2015](https://ui.adsabs.harvard.edu/abs/2015A%26A...573A..79S/abstract); [Soler et al. 2017](https://ui.adsabs.harvard.edu/abs/2017ApJ...840...20S/abstract); [Soler et al 2019](https://ui.adsabs.harvard.edu/abs/2019ApJ...871....3S/abstract))\n",
    "\n",
    "We will be interested in the collisions between charged particles, and also neutrals and charged particles. Here we define a few equations of interest.\n",
    "\n",
    "Ion-neutral coefficient of friction (Braginskii 1965 ):\n",
    "$$\n",
    "\\alpha_{\\beta\\beta'} = n_\\beta n_{\\beta'}m_{\\beta\\beta'}\\sigma_{\\beta\\beta'}\\frac{4}{3}\\sqrt{\\frac{8 k_B T}{\\pi m_{\\beta\\beta'}}}\n",
    "$$\n",
    "\n",
    "with collision frequency\n",
    "$$\n",
    "\\nu_{\\beta\\beta'}= \\frac{\\alpha_{\\beta\\beta'}}{m_\\beta n_\\beta + m_{\\beta'}n_{\\beta'}}\n",
    "$$\n",
    "\n",
    "Where \n",
    "$$\n",
    "m_{\\beta\\beta'} = \\frac{m_\\beta m_{\\beta'}}{m_\\beta + m_{\\beta'} }\n",
    "$$\n",
    "is the reduced mass and $\\sigma_{\\beta\\beta'}$ are the collisional cross sections. \n",
    "\n"
   ]
  },
  {
   "cell_type": "markdown",
   "id": "b39fcf40",
   "metadata": {},
   "source": [
    "The collisional cross-sections can be calculated from ... We use the following values from (Lewkow et al. 2012; [Vranjes & Krstic 2013](https://ui.adsabs.harvard.edu/abs/2013A%26A...554A..22V/abstract)).\n",
    "\n",
    "\n",
    "**Ion-neutral cross sections**:\n",
    "- $\\sigma_{iH} \\approx 10^{-18}$~m^2, \n",
    "- $\\sigma_{iHeI} \\approx 3\\times 10^{-19}$ m^2,\n",
    "- $\\sigma_{HHeI} \\approx 1.5\\times 10^{-19}$ m^2 \n",
    "\n",
    "**Electron-neutral**:\n",
    "- $\\sigma_{eH}= 3\\times10^{-19}$~m^2\n",
    "- $\\sigma_{eHe}= 6\\times10^{-20}$~m^2\n"
   ]
  },
  {
   "cell_type": "markdown",
   "id": "aceeef83",
   "metadata": {},
   "source": [
    "The friction coefficient for collisions between two charged species is (e.g., Spitzer 1962; Braginskii 1965)\n",
    "$$\n",
    "\\alpha_{qq'}=\\frac{n_q n_{q'}e^4 \\Lambda_{qq'}}{6\\pi\\sqrt{2\\pi}\\epsilon_0^2m_{qq'}}\\left(\\frac{m_{qq'}}{k_BT} \\right)^{3/2},\n",
    "$$\n",
    "where $q$ = e, p, or He II and $q'=$ e, p, or He II,\n",
    "\n",
    "The Coulomb logarithm Λ is given by (e.g., Spitzer 1962; Vranjes & Krstic 2013)\n",
    "$$\n",
    "\\Lambda_{qq'}=\\ln\\left( \\frac{24\\pi(\\epsilon_0k_BT)^{3/2}}{e^3\\sqrt{n_q+n_{q'}}} \\right)\n",
    "$$\n",
    "\n",
    "Units of $\\alpha_{qq'}$ are kg/s/m$^3$.\n",
    "\n",
    "And the total friction coefficient of species $\\beta$ with\n",
    "the other species is\n",
    "$$\n",
    "\\alpha_{\\beta}=\\sum_{\\beta'\\neq\\beta}\\alpha_{\\beta\\beta'}\n",
    "$$\n",
    "\n"
   ]
  },
  {
   "cell_type": "code",
   "execution_count": 117,
   "id": "f99404cf",
   "metadata": {
    "ExecuteTime": {
     "end_time": "2022-02-04T22:27:29.996658Z",
     "start_time": "2022-02-04T22:27:29.990623Z"
    }
   },
   "outputs": [],
   "source": [
    "# functions for calculation of coefficients of friction\n",
    "\n",
    "def calc_in_coeff_fric(n_i, n_n, m_in, sigma_in,T):\n",
    "    \"\"\"\n",
    "    Calculate coefficient of friction for charged and neutrals (Eq. 2).\n",
    "    \n",
    "    n_i - ion number density\n",
    "    n_n - neutral number density\n",
    "    m_in - reduced mass\n",
    "    sigma_in - cross section\n",
    "    T - temperature \n",
    "    \n",
    "    output units should be kg/s/m^3\n",
    "    \"\"\"\n",
    "    return n_i*n_n*m_in*sigma_in*4/3*np.sqrt( (8*c.k_B*T)/(np.pi*m_in) )\n",
    "\n",
    "def coloumb_logarithm(n_1, n_2, T):\n",
    "    \"\"\"\n",
    "    Calculate couloumb logarithm (Eq. 6).\n",
    "    \n",
    "    n_1 - charged particle number density\n",
    "    n_2 - charged particle number density\n",
    "    T - temperature \n",
    "    \"\"\"\n",
    "    numer = 24*np.pi*(c.eps0*c.k_B*T)**(3/2)\n",
    "    denom = c.e.si**3*np.sqrt(n_1+n_2)\n",
    "    return np.log(numer/denom)\n",
    "\n",
    "def calc_qq_coeff_fric(n_1, n_2, m_12, T):\n",
    "    \"\"\"\n",
    "    Calculate coefficient of friction for charged particles (Eq. 5).\n",
    "    \n",
    "    n_1 - charged particle number density\n",
    "    n_2 - charged particle number density\n",
    "    m_12 - reduced mass\n",
    "    T - temperature \n",
    "    \n",
    "    output units should be kg/s/m^3\n",
    "    \"\"\"\n",
    "    coloumb_log = coloumb_logarithm(n_1, n_2, T)\n",
    "    numer = n_1*n_2*c.e.si**4*coloumb_log\n",
    "    denom = 6*np.pi*np.sqrt(2*np.pi)*c.eps0**2*m_12\n",
    "    \n",
    "    \n",
    "    return numer/denom*( m_12/c.k_B/T )**(3/2)\n"
   ]
  },
  {
   "cell_type": "markdown",
   "id": "2f9dc54f",
   "metadata": {},
   "source": [
    "Let us now calculate this for the electron collisions. We do this in two ways, one including only charged particles and the other including neutrals."
   ]
  },
  {
   "cell_type": "code",
   "execution_count": 314,
   "id": "f1c2dd34",
   "metadata": {
    "ExecuteTime": {
     "end_time": "2022-02-07T15:38:41.431699Z",
     "start_time": "2022-02-07T15:38:41.401995Z"
    }
   },
   "outputs": [
    {
     "name": "stdout",
     "output_type": "stream",
     "text": [
      "2050000.629 1 / cm3\n",
      "125094.2 1 / cm3\n"
     ]
    }
   ],
   "source": [
    "# electron - charged\n",
    "q_prime = ['p', 'He II', 'He III']\n",
    "q_prime_lab = ['Proton', 'He II', 'He III']\n",
    "label = ['alpha_ep', 'alpha_eHeII', 'alpha_eHeIII']\n",
    "\n",
    "n_1 = df['Electron'].values * u.cm**-3\n",
    "Temp = df['Temp.'].values * u.K\n",
    "\n",
    "for qp, qp_lab, lab in zip(q_prime, q_prime_lab, label):\n",
    "    red_mass = reduced_mass('e',qp)\n",
    "    n_2 = df[qp_lab].values * u.cm**-3 # number density\n",
    "    a = calc_qq_coeff_fric(n_1, n_2, red_mass, Temp )\n",
    "    df[lab] = a.decompose().value\n",
    "\n",
    "# electron - neutrals\n",
    "red_mass = reduced_mass('e','H')\n",
    "sigma_eH = 3 * 10**-19 * u.m**2\n",
    "n_2 = (df['H(1)']+df['H(2)']).values*u.cm**-3 # neutral hydrogen number density\n",
    "a = calc_in_coeff_fric(n_1, n_2, red_mass, sigma_eH, Temp )\n",
    "df['alpha_e_H'] = a.decompose().value\n",
    "       \n",
    "red_mass = reduced_mass('e','He')\n",
    "sigma_eHe = 6 * 10**-20 * u.m**2\n",
    "n_2 = (df['He(1)']+df['He(2)']).values * u.cm**-3 # neutral helium number density\n",
    "a = calc_in_coeff_fric(n_1, n_2, red_mass, sigma_eHe, Temp )\n",
    "df['alpha_e_He'] = a.decompose().value \n",
    "\n",
    "\n",
    "# charged particles only\n",
    "df['alpha_e_q'] = df['alpha_ep']+df['alpha_eHeII']+df['alpha_eHeIII']\n",
    "\n",
    "# neutrals + charged particles only\n",
    "df['alpha_e'] = df['alpha_e_q']+df['alpha_e_H']+df['alpha_e_He']"
   ]
  },
  {
   "cell_type": "markdown",
   "id": "1700c618",
   "metadata": {},
   "source": [
    "It can be seen in the following plot that failure to include the collisions with neutrals in the lower solar solar atmosphere under-estimates the coefficient of friction for electron collisions. Collisions with neutral hydrogen and helium independently can be greater than collisions with the protons, between 100-500 km."
   ]
  },
  {
   "cell_type": "code",
   "execution_count": 334,
   "id": "ca07be81",
   "metadata": {
    "ExecuteTime": {
     "end_time": "2022-02-07T15:50:09.386453Z",
     "start_time": "2022-02-07T15:50:08.946595Z"
    },
    "code_folding": [
     0
    ]
   },
   "outputs": [
    {
     "data": {
      "text/plain": [
       "<matplotlib.legend.Legend at 0x1974eebe0>"
      ]
     },
     "execution_count": 334,
     "metadata": {},
     "output_type": "execute_result"
    },
    {
     "data": {
      "image/png": "[encoded data removed]",
      "text/plain": [
       "<Figure size 1080x360 with 2 Axes>"
      ]
     },
     "metadata": {
      "needs_background": "light"
     },
     "output_type": "display_data"
    }
   ],
   "source": [
    "# plot code\n",
    "plt.figure(figsize=(15,5))\n",
    "\n",
    "plt.subplot(121)\n",
    "plt.plot(df['Depth'], df['alpha_e_q'], label='Charged only')\n",
    "plt.plot(df['Depth'], df['alpha_e'], label='Neutrals included')\n",
    "plt.yscale('log')\n",
    "plt.ylabel(r'$\\alpha_e$ (Kg s$^{-1}$ m$^{-3}$)')\n",
    "plt.xlabel('Depth (km)')\n",
    "plt.legend()\n",
    "\n",
    "plt.subplot(122)\n",
    "label =  ['alpha_e_H','alpha_e_He','alpha_ep', 'alpha_eHeII', 'alpha_eHeIII']\n",
    "leg_lab =  ['H','He I','p', 'HeII', 'HeIII']\n",
    "\n",
    "for l, ll in zip(label, leg_lab):\n",
    "    plt.plot(df['Depth'], df[l], label=ll)\n",
    "\n",
    "plt.yscale('log')\n",
    "plt.ylabel(r'$\\alpha_e$ (Kg s$^{-1}$ m$^{-3}$)')\n",
    "plt.ylim(1e-19,10)\n",
    "plt.xlabel('Depth (km)')\n",
    "plt.legend()"
   ]
  },
  {
   "cell_type": "code",
   "execution_count": 71,
   "id": "e116f7fa",
   "metadata": {
    "ExecuteTime": {
     "end_time": "2022-02-04T16:13:07.232672Z",
     "start_time": "2022-02-04T16:13:07.226720Z"
    }
   },
   "outputs": [],
   "source": [
    "# proton-neutral hydrogen\n",
    "red_mass = reduced_mass('p','H')\n",
    "sigma_iH = 10**-18*u.m**2\n",
    "\n",
    "\n",
    "n_i = df['Proton'].values*u.cm**-3\n",
    "n_n = (df['H(1)']+df['H(2)']).values*u.cm**-3\n",
    "a = calc_in_coeff_fric(n_i, n_n, red_mass, sigma_iH, df['Temp.'].values*u.K )\n",
    "df['alpha_pH'] = a.decompose().value"
   ]
  },
  {
   "cell_type": "markdown",
   "id": "063e2f14",
   "metadata": {},
   "source": [
    "Eqs. (142-145)\n",
    "\n",
    "Ohmic diffusion\n",
    "$$\n",
    "\\eta = \\frac{α_e}{(en_e)^2\\mu}\n",
    "$$\n",
    "\n",
    "Hall diffusion\n",
    "$$\n",
    "\\eta_H = \\frac{|B|}{en_e\\mu}\n",
    "$$\n",
    "\n",
    "Ambipolar (Pederson/Cowling)\n",
    "$$\n",
    "\\eta_A = \\frac{\\xi^2_n}{\\alpha_n\\mu} |B|^2\n",
    "$$\n",
    "\n",
    "Biermann Battery\n",
    "$$\n",
    "\\eta_p = \\frac{|B|}{en_e\\mu}\n",
    "$$"
   ]
  },
  {
   "cell_type": "code",
   "execution_count": 215,
   "id": "8ea41f27",
   "metadata": {
    "ExecuteTime": {
     "end_time": "2022-02-05T22:38:12.246050Z",
     "start_time": "2022-02-05T22:38:12.239658Z"
    }
   },
   "outputs": [],
   "source": [
    "# eta_q - charged particles only\n",
    "alpha_e_q = df['alpha_e_q'].values * u.kg * u.m**-3 / u.s\n",
    "n_e = df['Electron'].values*u.cm**-3\n",
    "\n",
    "df['eta_q'] = (alpha_e_q / (c.e.si * n_e)**2 / c.mu0).decompose()\n",
    "\n",
    "\n",
    "# eta - charged _ neutrals particles\n",
    "alpha_e = df['alpha_e'].values * u.kg * u.m**-3 / u.s\n",
    "\n",
    "df['eta'] = (alpha_e / (c.e.si * n_e)**2 / c.mu0).decompose()"
   ]
  },
  {
   "cell_type": "code",
   "execution_count": 218,
   "id": "8b4a3b6b",
   "metadata": {
    "ExecuteTime": {
     "end_time": "2022-02-05T22:39:16.558170Z",
     "start_time": "2022-02-05T22:39:16.219895Z"
    }
   },
   "outputs": [
    {
     "data": {
      "text/plain": [
       "(1, 100000.0)"
      ]
     },
     "execution_count": 218,
     "metadata": {},
     "output_type": "execute_result"
    },
    {
     "data": {
      "image/png": "[encoded data removed]",
      "text/plain": [
       "<Figure size 432x288 with 1 Axes>"
      ]
     },
     "metadata": {
      "needs_background": "light"
     },
     "output_type": "display_data"
    }
   ],
   "source": [
    "plt.plot(df['Depth'], df['eta_q'])\n",
    "plt.plot(df['Depth'], df['eta'])\n",
    "plt.yscale('log')\n",
    "plt.ylim(1,1e5)"
   ]
  },
  {
   "cell_type": "code",
   "execution_count": null,
   "id": "32c689df",
   "metadata": {},
   "outputs": [],
   "source": []
  }
 ],
 "metadata": {
  "kernelspec": {
   "display_name": "Python 3",
   "language": "python",
   "name": "python3"
  },
  "language_info": {
   "codemirror_mode": {
    "name": "ipython",
    "version": 3
   },
   "file_extension": ".py",
   "mimetype": "text/x-python",
   "name": "python",
   "nbconvert_exporter": "python",
   "pygments_lexer": "ipython3",
   "version": "3.9.4"
  },
  "latex_envs": {
   "LaTeX_envs_menu_present": true,
   "autoclose": false,
   "autocomplete": true,
   "bibliofile": "biblio.bib",
   "cite_by": "apalike",
   "current_citInitial": 1,
   "eqLabelWithNumbers": true,
   "eqNumInitial": 1,
   "hotkeys": {
    "equation": "Ctrl-E",
    "itemize": "Ctrl-I"
   },
   "labels_anchors": false,
   "latex_user_defs": false,
   "report_style_numbering": false,
   "user_envs_cfg": false
  },
  "toc": {
   "base_numbering": 1,
   "nav_menu": {},
   "number_sections": true,
   "sideBar": true,
   "skip_h1_title": false,
   "title_cell": "Table of Contents",
   "title_sidebar": "Contents",
   "toc_cell": false,
   "toc_position": {},
   "toc_section_display": true,
   "toc_window_display": false
  }
 },
 "nbformat": 4,
 "nbformat_minor": 5
}
